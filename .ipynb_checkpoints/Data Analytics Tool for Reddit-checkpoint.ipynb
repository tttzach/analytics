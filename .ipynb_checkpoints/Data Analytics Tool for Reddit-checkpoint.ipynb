{
 "cells": [
  {
   "cell_type": "code",
   "execution_count": 1,
   "metadata": {},
   "outputs": [],
   "source": [
    "import matplotlib.pyplot as plt\n",
    "import pandas as pd\n",
    "import praw"
   ]
  },
  {
   "cell_type": "code",
   "execution_count": 2,
   "metadata": {},
   "outputs": [],
   "source": [
    "reddit = praw.Reddit(client_id='S7Ij8TubFtWdgw',\n",
    "                     client_secret='fsLH6NrVsONjSeP42TrCDwIB4b4',\n",
    "                     redirect_uri='http://localhost:8080',\n",
    "                     user_agent='testscript by /u/LankyDescription')"
   ]
  },
  {
   "cell_type": "code",
   "execution_count": 3,
   "metadata": {},
   "outputs": [],
   "source": [
    "subreddit = reddit.subreddit(\"uwaterloo\")"
   ]
  },
  {
   "cell_type": "code",
   "execution_count": 10,
   "metadata": {},
   "outputs": [],
   "source": [
    "top_subreddit = subreddit.top(limit=10)"
   ]
  },
  {
   "cell_type": "code",
   "execution_count": 11,
   "metadata": {},
   "outputs": [
    {
     "name": "stdout",
     "output_type": "stream",
     "text": [
      "[Specifically this goose.](https://upload.wikimedia.org/wikipedia/commons/e/e0/Canada_goose_head_detail.JPG)\n",
      "\n",
      "I'm serious. Let this be the nuclear shitpost that ends the meme war between /r/uwaterloo and /r/UofT.\n",
      "\n",
      "[redacted]\n",
      "\n",
      "If I don't finish the Fall 2016 exam period with a goddamn goose disrupting my ass, I will transfer to /r/UofT and denounce Feridun. \n",
      "\n",
      "Decide which cheek to disrupt in the comments.\n",
      "\n",
      "---\n",
      "\n",
      "**14:05 EST Update**: We broke 2000 in about an hour. RIP my ass cheek. This is gonna be glorious. PM me if you can recommend a tattoo artist in Toronto. \n",
      "\n",
      "**Second update**: This is definitely going to happen. I owe it to the internet. Over the next few days I will be in touch with some artists to design the actual tattoo. Likely the actual event will happen the first week of January. Thanks also to everyone for offering to fund the tattoo. If we decide to livestream the event, I'd prefer that we set up a site where everyone can donate to a local mental health centre or food bank. \n",
      "\n",
      "**Dec 15 update**: Tattoo parlor consultation is booked for tomorrow.\n",
      "\n",
      "**Dec 16 update**: [The tattoo will happen Friday January 6th.](http://i.imgur.com/7cIyd54.jpg)\n",
      "\n",
      "**Jan 5 update**: The work will happen tomorrow!\n",
      "\n",
      "**Jan 6 update**: [Work in progress](https://imgur.com/wdwXs3P)\n",
      "\n",
      "**Final update**: [Here it is!](https://m.reddit.com/r/uwaterloo/comments/5mgteo/tattoo_of_a_canada_goose_on_my_ass_op_delivers/)\n",
      "\n",
      "\n",
      "It doesn't feel real to type that title. None of this feels real yet. He was, as many of you are, a brilliant mind. To those who will say that UW doesn't isolate their students, I'd like to tell you that you're kidding yourself. My brother is the second person to die like this in this year alone at his residence. Waterloo hasn't called my family. We have no support from the school in this. I don't want to see the look on my father's face when he begs me not to leave him. I don't know who any of you are, and none of you know who I am, but please fucking know that you can go home whenever you want. It's just school. It's just a fucking grade. You're worth more than a fucking job or a degree. Chase was in the co-op program and the idea of moving back and forth every 6 months must have scared the living hell out of him. The fact that my brother was reduced to a number and was mistreated by the entire structure of the Waterloo campus is sickening. I read through the article published on uwimprint.com and the only words I could say were \"fuck you\". They say they offer their deepest sympathies when they never even gave us the courtesy of a phone call. My brother is dead because of the school and system that has become accepted. My brother is gone and I'll never be able to tell him I love him ever again. \n",
      "\n",
      "I'm 16 years old and will soon be deciding on where I'd like to go for school. I'm so hurt, I'm in so much pain. I need help. I need to know that you guys will be okay. I need you to know that you have a family and a home. **School is not everything.** Do me a favour and go home as soon as possible and hug your parents. They don't deserve this and neither do you. If you're ever homesick and feel so lonely you can't bear it then just fucking transfer schools to be closer to your family. \n",
      "\n",
      "Just please let my family be an example of the cowardice and the borderline criminality of the system we're all a part of. If you're attending the University of Waterloo next year or have an open invitation, please decline it or seriously consider another alternative.\n",
      "\n",
      "Save a life and be there for your roommate, your friend, and your family.\n",
      "\n",
      "\n",
      "\n",
      "\n",
      "> To those wondering we were notified by police and detectives. I will no longer be responding to messages immediately because I need to be with my family. Thank you all for your continued love and support. Hug the people you love. I'm aware this information will be picked up by a newspaper or some form of student thing, but just please keep in mind that I never want anyone to feel like they're unable to just leave school. This isn't supposed to happen.\n",
      "\n",
      "\n",
      "\n",
      "**Hi guys. It's been almost 4 days since Monday, and I have a great sense of enlightenment through you all and your responses. I was incredibly emotional when I wrote the original post and I regret none of what I said, but my focus is now on ensuring that this doesn't happen again. Not like this. We need to not live in the past and step forward and make differences. I'm not going to wait for the University to step up, I'm only going to extend my hand to those who are grieving and offer my help. We all need each other. No speech, no interview, no statement can say that enough. Thank you all. Spread love.**\n",
      "I'm in his class this term for CS 136 and tbh I don't think he's that good of a teacher. He has near perfect ratings on uwflow and a lot of people talk about how good he is but I don't really get it. Here is a list of things which bother me about him:\n",
      "\n",
      "1. He over explains obvious things. For example, he spent a good like 20-30 minutes talking about \"state\" with numerous examples such turning on/off the lights in a room, having code which plays a scary sound. Maybe it's just me but I got it the first time around. I don't need him flicking the lights on and off for 10 minutes. \n",
      "\n",
      "2. Bad jokes. Around 85% of his jokes are followed by almost complete silence besides *that guy* who laughs like he's going to pass out at any second. Almost all of his jokes are related to girls/picking girls up/going on a date which just aren't funny, and not in an sjw way, we're just almost all virgins who have never approached girls. He has a unique talent to somehow shoehorn these jokes in everywhere. For example, we were learning about how 0 is false and every non zero int is true (in C) and he said something like \"so next time you go on a date and she asks if you enjoyed the date, just say 1\". Like what, why...\n",
      "\n",
      "3. He's a bit disgusting. Man drinks way too many soft drinks. He's legit addicted to them. Like sometimes when he's walking from his podium to the centre of the room to use the chalkboard he'll bring his coke with him like dude you can't go 5 mins without your coke?? This is a superficial complaint though but I just wanted to say it anyway.\n",
      "\n",
      "4. Too much time spent on non material related things. For example, after a clicker question he'll be like \"ok talk to your neighbour and see what they got\" like DUDE I don't want to talk to this guy next to me who smells like he just crawled out of a trash bin, just explain to me what the right/wrong answers are pls. Every class we spend at least 10-15 mins doing our own thing when he could be teaching.\n",
      "\n",
      "Maybe it's because I had Troy Vasiga last term (who is apparently also one of the faculty's best profs) so my expectations are way too high. I'm considering going to Alice Gao's section because she seems really nice and helpful on Piazza but my current section just works with my schedule really well so I probably won't. \n",
      "\n",
      "Fuck pd\n",
      "My friend bought me a dick extender as a ~~gag~~ gift. When I wear it my dick (flaccid) is a whole 3-4 inches longer. It shows in all kinds of pants and is surprisingly comfy and realistic.\n",
      "\n",
      "&#x200B;\n",
      "\n",
      "If I get 1k upvotes AND NO LESS, I will wear it for the duration of my coop, including when meeting colleagues outside of work. I will write a post at the end of my experience with weekly updates on my experiences and interactions.\n",
      "\n",
      "&#x200B;\n",
      "\n",
      "Thank you for your time.\n",
      "\n",
      "&#x200B;\n",
      "\n",
      "edit: I don't want to reveal too much about myself, my colleagues may read this post if it gets too much traction.\n",
      "\n",
      "Edit: oh fuck this was a mistake, I'll update with a pic later today.\n",
      "\n",
      "its coming. just be patient.\n",
      "\n",
      "\n"
     ]
    }
   ],
   "source": [
    "for submission in top_subreddit:\n",
    "    print(submission.selftext)"
   ]
  },
  {
   "cell_type": "code",
   "execution_count": 37,
   "metadata": {},
   "outputs": [
    {
     "data": {
      "text/plain": [
       "<matplotlib.legend.Legend at 0x10c333ac8>"
      ]
     },
     "execution_count": 37,
     "metadata": {},
     "output_type": "execute_result"
    },
    {
     "data": {
      "image/png": "[encoded data removed]",
      "text/plain": [
       "<Figure size 432x288 with 1 Axes>"
      ]
     },
     "metadata": {
      "needs_background": "light"
     },
     "output_type": "display_data"
    }
   ],
   "source": [
    "# remove punctuation\n",
    "def removePunctuation(word):\n",
    "    punctuation = ['!', '?', '-', ',', '.', \"'\", '\"']\n",
    "    for char in punctuation:\n",
    "        if char in word:\n",
    "            word.replace(char, \"\")\n",
    "    return word\n",
    "\n",
    "# add 's' suffix\n",
    "def combinePlural(dictionary, word):\n",
    "    if word + 's' in dictionary:\n",
    "        word += dictionary[word + 's']\n",
    "    \n",
    "\n",
    "# main function\n",
    "def plotGraph(subredditName, keyword):\n",
    "    \n",
    "    # initialize subreddit according to parameter\n",
    "    subreddit = reddit.subreddit(subredditName)\n",
    "    \n",
    "    # get last 900 submissions from subreddit\n",
    "    latest = subreddit.new(limit=900)\n",
    "    \n",
    "    # initialize empty list to keep dictionary of words for each interval\n",
    "    wordList = [{}]\n",
    "    \n",
    "    # initialize x-axis and y-axis intervals and submission count\n",
    "    submissionCount = 0\n",
    "    i = 0\n",
    "    x = range(100, 901, 100)\n",
    "    y = []\n",
    "    \n",
    "    # iterate through submissions and keep count of every word in description\n",
    "    for submission in latest:\n",
    "        \n",
    "        submissionCount += 1\n",
    "    \n",
    "    # document words from title\n",
    "        for word in submission.title.lower().split():\n",
    "            if removePunctuation(word) in wordList[i]:\n",
    "                wordList[i][word] += 1\n",
    "            else:\n",
    "                wordList[i][word] = 1\n",
    "    \n",
    "    # document words from description\n",
    "        for word in submission.selftext.lower().split():\n",
    "            if removePunctuation(word) in wordList[i]:\n",
    "                wordList[i][word] += 1\n",
    "            else:\n",
    "                wordList[i][word] = 1\n",
    "                \n",
    "    # determine if loop has reached an interval and should start a new dictionary\n",
    "        if submissionCount == x[i]:\n",
    "            if keyword in wordList[i]:\n",
    "                y.append(wordList[i][keyword])\n",
    "                \n",
    "    # take into account the plural form of the keyword\n",
    "                if keyword + 's' in wordList[i]:\n",
    "                    wordList[i][keyword] += wordList[i][keyword + 's']\n",
    "                \n",
    "            else:\n",
    "                y.append(0)\n",
    "            i += 1\n",
    "            wordList.append({})\n",
    "    \n",
    "    \n",
    "    # plot a graph\n",
    "    plt.plot(x, y[::-1], label = keyword)\n",
    "    \n",
    "plotGraph(\"uwaterloo\", \"opt\")\n",
    "plt.xlabel(\"oldest to newest\")\n",
    "plt.ylabel(\"frequency\")\n",
    "plt.title(\"trend for \" + \"/r/uwaterloo\")\n",
    "plt.legend()    "
   ]
  },
  {
   "cell_type": "code",
   "execution_count": null,
   "metadata": {},
   "outputs": [],
   "source": []
  }
 ],
 "metadata": {
  "kernelspec": {
   "display_name": "Python 3",
   "language": "python",
   "name": "python3"
  },
  "language_info": {
   "codemirror_mode": {
    "name": "ipython",
    "version": 3
   },
   "file_extension": ".py",
   "mimetype": "text/x-python",
   "name": "python",
   "nbconvert_exporter": "python",
   "pygments_lexer": "ipython3",
   "version": "3.7.3"
  }
 },
 "nbformat": 4,
 "nbformat_minor": 2
}
